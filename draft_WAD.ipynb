{
 "cells": [
  {
   "cell_type": "markdown",
   "metadata": {},
   "source": [
    "# ML for climate and Energy (MEC51057)\n",
    "# Group project: Weather station\n",
    "\n",
    "**Mentor**:\n",
    "- Julio \n",
    "\n",
    "**Students**:\n",
    "- Dimitri Iratchet\n",
    "- Fabien Lagnieu\n",
    "- Tristan Waddington\n",
    "\n",
    "# Draft for Tristan"
   ]
  },
  {
   "cell_type": "markdown",
   "metadata": {},
   "source": [
    "## 1. Data loading"
   ]
  },
  {
   "cell_type": "markdown",
   "metadata": {},
   "source": [
    "## 2. Model instantiation"
   ]
  },
  {
   "cell_type": "markdown",
   "metadata": {},
   "source": []
  }
 ],
 "metadata": {
  "language_info": {
   "name": "python"
  }
 },
 "nbformat": 4,
 "nbformat_minor": 2
}
