{
  "cells": [
    {
      "cell_type": "markdown",
      "metadata": {
        "id": "fXqNSvlv6cNj"
      },
      "source": [
        "# ML for climate and Energy (MEC51057)\n",
        "# Group project: Weather station\n",
        "\n",
        "**Mentor**:\n",
        "- Julio\n",
        "\n",
        "**Students**:\n",
        "- Dimitri Iratchet\n",
        "- Fabien Lagnieu\n",
        "- Tristan Waddington\n",
        "\n",
        "# Draft for Dimitri\n"
      ]
    },
    {
      "cell_type": "code",
      "source": [
        "!git clone https://github.com/waddason/ML_ClimateEnergy_project2024/"
      ],
      "metadata": {
        "id": "iIRZKvg5_0-Q",
        "outputId": "36101eae-9ce7-4a9f-90df-0610df1204d6",
        "colab": {
          "base_uri": "https://localhost:8080/"
        }
      },
      "execution_count": 7,
      "outputs": [
        {
          "output_type": "stream",
          "name": "stdout",
          "text": [
            "Cloning into 'ML_ClimateEnergy_project2024'...\n",
            "remote: Enumerating objects: 186, done.\u001b[K\n",
            "remote: Counting objects: 100% (120/120), done.\u001b[K\n",
            "remote: Compressing objects: 100% (111/111), done.\u001b[K\n",
            "remote: Total 186 (delta 19), reused 105 (delta 9), pack-reused 66 (from 1)\u001b[K\n",
            "Receiving objects: 100% (186/186), 91.42 MiB | 21.35 MiB/s, done.\n",
            "Resolving deltas: 100% (24/24), done.\n",
            "Filtering content: 100% (54/54), 255.44 MiB | 36.01 MiB/s, done.\n"
          ]
        }
      ]
    },
    {
      "cell_type": "code",
      "execution_count": 9,
      "metadata": {
        "id": "85ruhlGv6cNo"
      },
      "outputs": [],
      "source": [
        "from ML_ClimateEnergy_project2024.utils import load_normalize_data, load_red_data"
      ]
    },
    {
      "cell_type": "markdown",
      "metadata": {
        "id": "SMat02fM6cNp"
      },
      "source": [
        "## 1. Data loading"
      ]
    },
    {
      "cell_type": "markdown",
      "metadata": {
        "id": "AKhwfqld6cNp"
      },
      "source": [
        "### 1.1 Normalized data by city\n",
        "<div class=\"alert alert-block alert-warning\">\n",
        "Use the other dataset at first\n",
        "</div>\n"
      ]
    },
    {
      "cell_type": "code",
      "execution_count": 12,
      "metadata": {
        "colab": {
          "base_uri": "https://localhost:8080/",
          "height": 300
        },
        "id": "ipc50cfc6cNq",
        "outputId": "4955ce76-195a-48db-ef44-11fcd1b9f9e6"
      },
      "outputs": [
        {
          "output_type": "error",
          "ename": "FileNotFoundError",
          "evalue": "``/content/data/norm_data`` does not exist",
          "traceback": [
            "\u001b[0;31m---------------------------------------------------------------------------\u001b[0m",
            "\u001b[0;31mFileNotFoundError\u001b[0m                         Traceback (most recent call last)",
            "\u001b[0;32m<ipython-input-12-bd6d38ee7105>\u001b[0m in \u001b[0;36m<cell line: 1>\u001b[0;34m()\u001b[0m\n\u001b[0;32m----> 1\u001b[0;31m \u001b[0mX_train\u001b[0m\u001b[0;34m,\u001b[0m \u001b[0mX_test\u001b[0m\u001b[0;34m,\u001b[0m \u001b[0my_train\u001b[0m\u001b[0;34m,\u001b[0m \u001b[0my_test\u001b[0m \u001b[0;34m=\u001b[0m \u001b[0mload_normalize_data\u001b[0m\u001b[0;34m(\u001b[0m\u001b[0;34m)\u001b[0m\u001b[0;34m\u001b[0m\u001b[0;34m\u001b[0m\u001b[0m\n\u001b[0m",
            "\u001b[0;32m/content/ML_ClimateEnergy_project2024/utils.py\u001b[0m in \u001b[0;36mload_normalize_data\u001b[0;34m()\u001b[0m\n\u001b[1;32m     22\u001b[0m     \u001b[0;31m# Load variable_datasets_X_train from HDF5\u001b[0m\u001b[0;34m\u001b[0m\u001b[0;34m\u001b[0m\u001b[0m\n\u001b[1;32m     23\u001b[0m     \u001b[0mvariable_datasets_X_train\u001b[0m \u001b[0;34m=\u001b[0m \u001b[0;34m{\u001b[0m\u001b[0;34m}\u001b[0m\u001b[0;34m\u001b[0m\u001b[0;34m\u001b[0m\u001b[0m\n\u001b[0;32m---> 24\u001b[0;31m     \u001b[0;32mwith\u001b[0m \u001b[0mpd\u001b[0m\u001b[0;34m.\u001b[0m\u001b[0mHDFStore\u001b[0m\u001b[0;34m(\u001b[0m\u001b[0;34m\"data/norm_data/variable_datasets_X_train.h5\"\u001b[0m\u001b[0;34m)\u001b[0m \u001b[0;32mas\u001b[0m \u001b[0mstore\u001b[0m\u001b[0;34m:\u001b[0m\u001b[0;34m\u001b[0m\u001b[0;34m\u001b[0m\u001b[0m\n\u001b[0m\u001b[1;32m     25\u001b[0m         \u001b[0;32mfor\u001b[0m \u001b[0mvariable\u001b[0m \u001b[0;32min\u001b[0m \u001b[0mstore\u001b[0m\u001b[0;34m.\u001b[0m\u001b[0mkeys\u001b[0m\u001b[0;34m(\u001b[0m\u001b[0;34m)\u001b[0m\u001b[0;34m:\u001b[0m\u001b[0;34m\u001b[0m\u001b[0;34m\u001b[0m\u001b[0m\n\u001b[1;32m     26\u001b[0m             \u001b[0mvariable_name\u001b[0m \u001b[0;34m=\u001b[0m \u001b[0mvariable\u001b[0m\u001b[0;34m.\u001b[0m\u001b[0mstrip\u001b[0m\u001b[0;34m(\u001b[0m\u001b[0;34m\"/\"\u001b[0m\u001b[0;34m)\u001b[0m\u001b[0;34m\u001b[0m\u001b[0;34m\u001b[0m\u001b[0m\n",
            "\u001b[0;32m/usr/local/lib/python3.10/dist-packages/pandas/io/pytables.py\u001b[0m in \u001b[0;36m__init__\u001b[0;34m(self, path, mode, complevel, complib, fletcher32, **kwargs)\u001b[0m\n\u001b[1;32m    583\u001b[0m         \u001b[0mself\u001b[0m\u001b[0;34m.\u001b[0m\u001b[0m_fletcher32\u001b[0m \u001b[0;34m=\u001b[0m \u001b[0mfletcher32\u001b[0m\u001b[0;34m\u001b[0m\u001b[0;34m\u001b[0m\u001b[0m\n\u001b[1;32m    584\u001b[0m         \u001b[0mself\u001b[0m\u001b[0;34m.\u001b[0m\u001b[0m_filters\u001b[0m \u001b[0;34m=\u001b[0m \u001b[0;32mNone\u001b[0m\u001b[0;34m\u001b[0m\u001b[0;34m\u001b[0m\u001b[0m\n\u001b[0;32m--> 585\u001b[0;31m         \u001b[0mself\u001b[0m\u001b[0;34m.\u001b[0m\u001b[0mopen\u001b[0m\u001b[0;34m(\u001b[0m\u001b[0mmode\u001b[0m\u001b[0;34m=\u001b[0m\u001b[0mmode\u001b[0m\u001b[0;34m,\u001b[0m \u001b[0;34m**\u001b[0m\u001b[0mkwargs\u001b[0m\u001b[0;34m)\u001b[0m\u001b[0;34m\u001b[0m\u001b[0;34m\u001b[0m\u001b[0m\n\u001b[0m\u001b[1;32m    586\u001b[0m \u001b[0;34m\u001b[0m\u001b[0m\n\u001b[1;32m    587\u001b[0m     \u001b[0;32mdef\u001b[0m \u001b[0m__fspath__\u001b[0m\u001b[0;34m(\u001b[0m\u001b[0mself\u001b[0m\u001b[0;34m)\u001b[0m \u001b[0;34m->\u001b[0m \u001b[0mstr\u001b[0m\u001b[0;34m:\u001b[0m\u001b[0;34m\u001b[0m\u001b[0;34m\u001b[0m\u001b[0m\n",
            "\u001b[0;32m/usr/local/lib/python3.10/dist-packages/pandas/io/pytables.py\u001b[0m in \u001b[0;36mopen\u001b[0;34m(self, mode, **kwargs)\u001b[0m\n\u001b[1;32m    743\u001b[0m             \u001b[0;32mraise\u001b[0m \u001b[0mValueError\u001b[0m\u001b[0;34m(\u001b[0m\u001b[0mmsg\u001b[0m\u001b[0;34m)\u001b[0m\u001b[0;34m\u001b[0m\u001b[0;34m\u001b[0m\u001b[0m\n\u001b[1;32m    744\u001b[0m \u001b[0;34m\u001b[0m\u001b[0m\n\u001b[0;32m--> 745\u001b[0;31m         \u001b[0mself\u001b[0m\u001b[0;34m.\u001b[0m\u001b[0m_handle\u001b[0m \u001b[0;34m=\u001b[0m \u001b[0mtables\u001b[0m\u001b[0;34m.\u001b[0m\u001b[0mopen_file\u001b[0m\u001b[0;34m(\u001b[0m\u001b[0mself\u001b[0m\u001b[0;34m.\u001b[0m\u001b[0m_path\u001b[0m\u001b[0;34m,\u001b[0m \u001b[0mself\u001b[0m\u001b[0;34m.\u001b[0m\u001b[0m_mode\u001b[0m\u001b[0;34m,\u001b[0m \u001b[0;34m**\u001b[0m\u001b[0mkwargs\u001b[0m\u001b[0;34m)\u001b[0m\u001b[0;34m\u001b[0m\u001b[0;34m\u001b[0m\u001b[0m\n\u001b[0m\u001b[1;32m    746\u001b[0m \u001b[0;34m\u001b[0m\u001b[0m\n\u001b[1;32m    747\u001b[0m     \u001b[0;32mdef\u001b[0m \u001b[0mclose\u001b[0m\u001b[0;34m(\u001b[0m\u001b[0mself\u001b[0m\u001b[0;34m)\u001b[0m \u001b[0;34m->\u001b[0m \u001b[0;32mNone\u001b[0m\u001b[0;34m:\u001b[0m\u001b[0;34m\u001b[0m\u001b[0;34m\u001b[0m\u001b[0m\n",
            "\u001b[0;32m/usr/local/lib/python3.10/dist-packages/tables/file.py\u001b[0m in \u001b[0;36mopen_file\u001b[0;34m(filename, mode, title, root_uep, filters, **kwargs)\u001b[0m\n\u001b[1;32m    294\u001b[0m \u001b[0;34m\u001b[0m\u001b[0m\n\u001b[1;32m    295\u001b[0m     \u001b[0;31m# Finally, create the File instance, and return it\u001b[0m\u001b[0;34m\u001b[0m\u001b[0;34m\u001b[0m\u001b[0m\n\u001b[0;32m--> 296\u001b[0;31m     \u001b[0;32mreturn\u001b[0m \u001b[0mFile\u001b[0m\u001b[0;34m(\u001b[0m\u001b[0mfilename\u001b[0m\u001b[0;34m,\u001b[0m \u001b[0mmode\u001b[0m\u001b[0;34m,\u001b[0m \u001b[0mtitle\u001b[0m\u001b[0;34m,\u001b[0m \u001b[0mroot_uep\u001b[0m\u001b[0;34m,\u001b[0m \u001b[0mfilters\u001b[0m\u001b[0;34m,\u001b[0m \u001b[0;34m**\u001b[0m\u001b[0mkwargs\u001b[0m\u001b[0;34m)\u001b[0m\u001b[0;34m\u001b[0m\u001b[0;34m\u001b[0m\u001b[0m\n\u001b[0m\u001b[1;32m    297\u001b[0m \u001b[0;34m\u001b[0m\u001b[0m\n\u001b[1;32m    298\u001b[0m \u001b[0;34m\u001b[0m\u001b[0m\n",
            "\u001b[0;32m/usr/local/lib/python3.10/dist-packages/tables/file.py\u001b[0m in \u001b[0;36m__init__\u001b[0;34m(self, filename, mode, title, root_uep, filters, **kwargs)\u001b[0m\n\u001b[1;32m    744\u001b[0m \u001b[0;34m\u001b[0m\u001b[0m\n\u001b[1;32m    745\u001b[0m         \u001b[0;31m# Now, it is time to initialize the File extension\u001b[0m\u001b[0;34m\u001b[0m\u001b[0;34m\u001b[0m\u001b[0m\n\u001b[0;32m--> 746\u001b[0;31m         \u001b[0mself\u001b[0m\u001b[0;34m.\u001b[0m\u001b[0m_g_new\u001b[0m\u001b[0;34m(\u001b[0m\u001b[0mfilename\u001b[0m\u001b[0;34m,\u001b[0m \u001b[0mmode\u001b[0m\u001b[0;34m,\u001b[0m \u001b[0;34m**\u001b[0m\u001b[0mparams\u001b[0m\u001b[0;34m)\u001b[0m\u001b[0;34m\u001b[0m\u001b[0;34m\u001b[0m\u001b[0m\n\u001b[0m\u001b[1;32m    747\u001b[0m \u001b[0;34m\u001b[0m\u001b[0m\n\u001b[1;32m    748\u001b[0m         \u001b[0;31m# Check filters and set PyTables format version for new files.\u001b[0m\u001b[0;34m\u001b[0m\u001b[0;34m\u001b[0m\u001b[0m\n",
            "\u001b[0;32m/usr/local/lib/python3.10/dist-packages/tables/hdf5extension.pyx\u001b[0m in \u001b[0;36mtables.hdf5extension.File._g_new\u001b[0;34m()\u001b[0m\n",
            "\u001b[0;32m/usr/local/lib/python3.10/dist-packages/tables/utils.py\u001b[0m in \u001b[0;36mcheck_file_access\u001b[0;34m(filename, mode)\u001b[0m\n\u001b[1;32m    190\u001b[0m             \u001b[0mcheck_file_access\u001b[0m\u001b[0;34m(\u001b[0m\u001b[0mpath\u001b[0m\u001b[0;34m,\u001b[0m \u001b[0;34m'r+'\u001b[0m\u001b[0;34m)\u001b[0m\u001b[0;34m\u001b[0m\u001b[0;34m\u001b[0m\u001b[0m\n\u001b[1;32m    191\u001b[0m         \u001b[0;32melse\u001b[0m\u001b[0;34m:\u001b[0m\u001b[0;34m\u001b[0m\u001b[0;34m\u001b[0m\u001b[0m\n\u001b[0;32m--> 192\u001b[0;31m             \u001b[0mcheck_file_access\u001b[0m\u001b[0;34m(\u001b[0m\u001b[0mpath\u001b[0m\u001b[0;34m,\u001b[0m \u001b[0;34m'w'\u001b[0m\u001b[0;34m)\u001b[0m\u001b[0;34m\u001b[0m\u001b[0;34m\u001b[0m\u001b[0m\n\u001b[0m\u001b[1;32m    193\u001b[0m     \u001b[0;32melif\u001b[0m \u001b[0mmode\u001b[0m \u001b[0;34m==\u001b[0m \u001b[0;34m'r+'\u001b[0m\u001b[0;34m:\u001b[0m\u001b[0;34m\u001b[0m\u001b[0;34m\u001b[0m\u001b[0m\n\u001b[1;32m    194\u001b[0m         \u001b[0mcheck_file_access\u001b[0m\u001b[0;34m(\u001b[0m\u001b[0mpath\u001b[0m\u001b[0;34m,\u001b[0m \u001b[0;34m'r'\u001b[0m\u001b[0;34m)\u001b[0m\u001b[0;34m\u001b[0m\u001b[0;34m\u001b[0m\u001b[0m\n",
            "\u001b[0;32m/usr/local/lib/python3.10/dist-packages/tables/utils.py\u001b[0m in \u001b[0;36mcheck_file_access\u001b[0;34m(filename, mode)\u001b[0m\n\u001b[1;32m    178\u001b[0m             \u001b[0;31m# so the directory should be writable.\u001b[0m\u001b[0;34m\u001b[0m\u001b[0;34m\u001b[0m\u001b[0m\n\u001b[1;32m    179\u001b[0m             \u001b[0;32mif\u001b[0m \u001b[0;32mnot\u001b[0m \u001b[0mos\u001b[0m\u001b[0;34m.\u001b[0m\u001b[0maccess\u001b[0m\u001b[0;34m(\u001b[0m\u001b[0mpath\u001b[0m\u001b[0;34m.\u001b[0m\u001b[0mparent\u001b[0m\u001b[0;34m,\u001b[0m \u001b[0mos\u001b[0m\u001b[0;34m.\u001b[0m\u001b[0mF_OK\u001b[0m\u001b[0;34m)\u001b[0m\u001b[0;34m:\u001b[0m\u001b[0;34m\u001b[0m\u001b[0;34m\u001b[0m\u001b[0m\n\u001b[0;32m--> 180\u001b[0;31m                 \u001b[0;32mraise\u001b[0m \u001b[0mFileNotFoundError\u001b[0m\u001b[0;34m(\u001b[0m\u001b[0;34mf\"``{path.parent}`` does not exist\"\u001b[0m\u001b[0;34m)\u001b[0m\u001b[0;34m\u001b[0m\u001b[0;34m\u001b[0m\u001b[0m\n\u001b[0m\u001b[1;32m    181\u001b[0m             \u001b[0;32mif\u001b[0m \u001b[0;32mnot\u001b[0m \u001b[0mpath\u001b[0m\u001b[0;34m.\u001b[0m\u001b[0mparent\u001b[0m\u001b[0;34m.\u001b[0m\u001b[0mis_dir\u001b[0m\u001b[0;34m(\u001b[0m\u001b[0;34m)\u001b[0m\u001b[0;34m:\u001b[0m\u001b[0;34m\u001b[0m\u001b[0;34m\u001b[0m\u001b[0m\n\u001b[1;32m    182\u001b[0m                 \u001b[0;32mraise\u001b[0m \u001b[0mNotADirectoryError\u001b[0m\u001b[0;34m(\u001b[0m\u001b[0;34mf\"``{path.parent}`` is not a directory\"\u001b[0m\u001b[0;34m)\u001b[0m\u001b[0;34m\u001b[0m\u001b[0;34m\u001b[0m\u001b[0m\n",
            "\u001b[0;31mFileNotFoundError\u001b[0m: ``/content/data/norm_data`` does not exist"
          ]
        }
      ],
      "source": [
        "X_train, X_test, y_train, y_test = load_normalize_data()"
      ]
    },
    {
      "cell_type": "code",
      "execution_count": null,
      "metadata": {
        "id": "OtMMcJP_6cNq",
        "outputId": "3b2468cf-5049-470c-d347-2d0927d09104"
      },
      "outputs": [
        {
          "name": "stdout",
          "output_type": "stream",
          "text": [
            "Shapes of X_train dataframes:\n",
            "blh: (315569, 4)\n",
            "d2m: (315569, 4)\n",
            "skt: (315569, 4)\n",
            "sp: (315569, 4)\n",
            "ssrd: (315569, 4)\n",
            "t2m: (315569, 4)\n",
            "tcc: (315569, 4)\n",
            "tp: (315569, 4)\n",
            "u10: (315569, 4)\n",
            "v10: (315569, 4)\n",
            "\n",
            "Shapes of X_test dataframes:\n",
            "blh: (35064, 4)\n",
            "d2m: (35064, 4)\n",
            "skt: (35064, 4)\n",
            "sp: (35064, 4)\n",
            "ssrd: (35064, 4)\n",
            "t2m: (35064, 4)\n",
            "tcc: (35064, 4)\n",
            "tp: (35064, 4)\n",
            "u10: (35064, 4)\n",
            "v10: (35064, 4)\n",
            "\n",
            "Shapes of y_train dataframes:\n",
            "blh: (315569, 1)\n",
            "d2m: (315569, 1)\n",
            "skt: (315569, 1)\n",
            "sp: (315569, 1)\n",
            "ssrd: (315569, 1)\n",
            "t2m: (315569, 1)\n",
            "tcc: (315569, 1)\n",
            "tp: (315569, 1)\n",
            "u10: (315569, 1)\n",
            "v10: (315569, 1)\n",
            "\n",
            "Shapes of y_test dataframes:\n",
            "blh: (35064, 1)\n",
            "d2m: (35064, 1)\n",
            "skt: (35064, 1)\n",
            "sp: (35064, 1)\n",
            "ssrd: (35064, 1)\n",
            "t2m: (35064, 1)\n",
            "tcc: (35064, 1)\n",
            "tp: (35064, 1)\n",
            "u10: (35064, 1)\n",
            "v10: (35064, 1)\n",
            "\n",
            "Available names in X_train: dict_keys(['blh', 'd2m', 'skt', 'sp', 'ssrd', 't2m', 'tcc', 'tp', 'u10', 'v10'])\n",
            "Available names in X_test: dict_keys(['blh', 'd2m', 'skt', 'sp', 'ssrd', 't2m', 'tcc', 'tp', 'u10', 'v10'])\n",
            "Available names in y_train: dict_keys(['blh', 'd2m', 'skt', 'sp', 'ssrd', 't2m', 'tcc', 'tp', 'u10', 'v10'])\n",
            "Available names in y_test: dict_keys(['blh', 'd2m', 'skt', 'sp', 'ssrd', 't2m', 'tcc', 'tp', 'u10', 'v10'])\n"
          ]
        }
      ],
      "source": [
        "# Display shapes of the dataframes\n",
        "print(\"Shapes of X_train dataframes:\")\n",
        "for key, value in X_train.items():\n",
        "    print(f\"{key}: {value.shape}\")\n",
        "\n",
        "print(\"\\nShapes of X_test dataframes:\")\n",
        "for key, value in X_test.items():\n",
        "    print(f\"{key}: {value.shape}\")\n",
        "\n",
        "print(\"\\nShapes of y_train dataframes:\")\n",
        "for key, value in y_train.items():\n",
        "    print(f\"{key}: {value.shape}\")\n",
        "\n",
        "print(\"\\nShapes of y_test dataframes:\")\n",
        "for key, value in y_test.items():\n",
        "    print(f\"{key}: {value.shape}\")\n",
        "\n",
        "# Display available names of the dataframes\n",
        "print(\"\\nAvailable names in X_train:\", X_train.keys())\n",
        "print(\"Available names in X_test:\", X_test.keys())\n",
        "print(\"Available names in y_train:\", y_train.keys())\n",
        "print(\"Available names in y_test:\", y_test.keys())"
      ]
    },
    {
      "cell_type": "code",
      "execution_count": null,
      "metadata": {
        "id": "TT_Z40lp6cNr",
        "outputId": "b984cc18-4f11-46ed-f41b-1b927b0c2c4f"
      },
      "outputs": [
        {
          "data": {
            "text/html": [
              "<div>\n",
              "<style scoped>\n",
              "    .dataframe tbody tr th:only-of-type {\n",
              "        vertical-align: middle;\n",
              "    }\n",
              "\n",
              "    .dataframe tbody tr th {\n",
              "        vertical-align: top;\n",
              "    }\n",
              "\n",
              "    .dataframe thead th {\n",
              "        text-align: right;\n",
              "    }\n",
              "</style>\n",
              "<table border=\"1\" class=\"dataframe\">\n",
              "  <thead>\n",
              "    <tr style=\"text-align: right;\">\n",
              "      <th></th>\n",
              "      <th>marseille</th>\n",
              "      <th>brest</th>\n",
              "      <th>london</th>\n",
              "      <th>berlin</th>\n",
              "    </tr>\n",
              "    <tr>\n",
              "      <th>time</th>\n",
              "      <th></th>\n",
              "      <th></th>\n",
              "      <th></th>\n",
              "      <th></th>\n",
              "    </tr>\n",
              "  </thead>\n",
              "  <tbody>\n",
              "    <tr>\n",
              "      <th>1980-01-01 07:00:00</th>\n",
              "      <td>-0.304960</td>\n",
              "      <td>-1.059357</td>\n",
              "      <td>-1.242151</td>\n",
              "      <td>-0.238806</td>\n",
              "    </tr>\n",
              "    <tr>\n",
              "      <th>1980-01-01 08:00:00</th>\n",
              "      <td>-0.316641</td>\n",
              "      <td>-1.101772</td>\n",
              "      <td>-1.220804</td>\n",
              "      <td>-0.269736</td>\n",
              "    </tr>\n",
              "    <tr>\n",
              "      <th>1980-01-01 09:00:00</th>\n",
              "      <td>-0.221562</td>\n",
              "      <td>-1.113358</td>\n",
              "      <td>-1.179237</td>\n",
              "      <td>-0.221394</td>\n",
              "    </tr>\n",
              "    <tr>\n",
              "      <th>1980-01-01 10:00:00</th>\n",
              "      <td>0.065092</td>\n",
              "      <td>-0.956357</td>\n",
              "      <td>-1.079727</td>\n",
              "      <td>-0.246937</td>\n",
              "    </tr>\n",
              "    <tr>\n",
              "      <th>1980-01-01 11:00:00</th>\n",
              "      <td>0.367741</td>\n",
              "      <td>-0.869908</td>\n",
              "      <td>-0.953809</td>\n",
              "      <td>-0.291722</td>\n",
              "    </tr>\n",
              "    <tr>\n",
              "      <th>...</th>\n",
              "      <td>...</td>\n",
              "      <td>...</td>\n",
              "      <td>...</td>\n",
              "      <td>...</td>\n",
              "    </tr>\n",
              "    <tr>\n",
              "      <th>2015-12-31 19:00:00</th>\n",
              "      <td>-0.944583</td>\n",
              "      <td>-0.068515</td>\n",
              "      <td>0.634647</td>\n",
              "      <td>-1.061930</td>\n",
              "    </tr>\n",
              "    <tr>\n",
              "      <th>2015-12-31 20:00:00</th>\n",
              "      <td>-0.969334</td>\n",
              "      <td>-0.770546</td>\n",
              "      <td>0.879556</td>\n",
              "      <td>-1.099512</td>\n",
              "    </tr>\n",
              "    <tr>\n",
              "      <th>2015-12-31 21:00:00</th>\n",
              "      <td>-0.994027</td>\n",
              "      <td>-1.045022</td>\n",
              "      <td>0.538919</td>\n",
              "      <td>-1.114498</td>\n",
              "    </tr>\n",
              "    <tr>\n",
              "      <th>2015-12-31 22:00:00</th>\n",
              "      <td>-1.010974</td>\n",
              "      <td>-1.198140</td>\n",
              "      <td>0.020614</td>\n",
              "      <td>-1.125467</td>\n",
              "    </tr>\n",
              "    <tr>\n",
              "      <th>2015-12-31 23:00:00</th>\n",
              "      <td>-1.040636</td>\n",
              "      <td>-1.505072</td>\n",
              "      <td>-0.353410</td>\n",
              "      <td>-1.138196</td>\n",
              "    </tr>\n",
              "  </tbody>\n",
              "</table>\n",
              "<p>315569 rows × 4 columns</p>\n",
              "</div>"
            ],
            "text/plain": [
              "                     marseille     brest    london    berlin\n",
              "time                                                        \n",
              "1980-01-01 07:00:00  -0.304960 -1.059357 -1.242151 -0.238806\n",
              "1980-01-01 08:00:00  -0.316641 -1.101772 -1.220804 -0.269736\n",
              "1980-01-01 09:00:00  -0.221562 -1.113358 -1.179237 -0.221394\n",
              "1980-01-01 10:00:00   0.065092 -0.956357 -1.079727 -0.246937\n",
              "1980-01-01 11:00:00   0.367741 -0.869908 -0.953809 -0.291722\n",
              "...                        ...       ...       ...       ...\n",
              "2015-12-31 19:00:00  -0.944583 -0.068515  0.634647 -1.061930\n",
              "2015-12-31 20:00:00  -0.969334 -0.770546  0.879556 -1.099512\n",
              "2015-12-31 21:00:00  -0.994027 -1.045022  0.538919 -1.114498\n",
              "2015-12-31 22:00:00  -1.010974 -1.198140  0.020614 -1.125467\n",
              "2015-12-31 23:00:00  -1.040636 -1.505072 -0.353410 -1.138196\n",
              "\n",
              "[315569 rows x 4 columns]"
            ]
          },
          "execution_count": 11,
          "metadata": {},
          "output_type": "execute_result"
        }
      ],
      "source": [
        "X_train[\"blh\"]"
      ]
    },
    {
      "cell_type": "markdown",
      "metadata": {
        "id": "L_HgYQsa6cNs"
      },
      "source": [
        "### 1.2 Resample Daily data (TO USE)\n",
        "<div class=\"alert alert-block alert-info\">\n",
        "<b> Prefer this dataset at first </b>\n",
        "</div>"
      ]
    },
    {
      "cell_type": "code",
      "execution_count": null,
      "metadata": {
        "id": "CQOHMwag6cNt",
        "outputId": "b0a87f46-6262-49da-c618-40cca8b52cdf"
      },
      "outputs": [
        {
          "name": "stdout",
          "output_type": "stream",
          "text": [
            "Shapes: \n",
            "X_train: (3287, 40), X_test: (1096, 40), X_val: (365, 40)\n",
            "y_train: (3287, 10), y_test: (1096, 10), y_val: (365, 10)\n"
          ]
        }
      ],
      "source": [
        "X_train, X_test, X_val, y_train, y_test, y_val = load_red_data()\n",
        "print(\n",
        "    f\"Shapes: \\nX_train: {X_train.shape}, X_test: {X_test.shape}, X_val: {X_val.shape}\\n\"\n",
        "    f\"y_train: {y_train.shape}, y_test: {y_test.shape}, y_val: {y_val.shape}\"\n",
        ")"
      ]
    },
    {
      "cell_type": "markdown",
      "metadata": {
        "id": "b_Abcdsu6cNt"
      },
      "source": [
        "## 2. Model instantiation"
      ]
    },
    {
      "cell_type": "markdown",
      "metadata": {
        "id": "Ewqm8K106cNt"
      },
      "source": []
    }
  ],
  "metadata": {
    "kernelspec": {
      "display_name": "ML_climate",
      "language": "python",
      "name": "python3"
    },
    "language_info": {
      "codemirror_mode": {
        "name": "ipython",
        "version": 3
      },
      "file_extension": ".py",
      "mimetype": "text/x-python",
      "name": "python",
      "nbconvert_exporter": "python",
      "pygments_lexer": "ipython3",
      "version": "3.12.5"
    },
    "colab": {
      "provenance": []
    }
  },
  "nbformat": 4,
  "nbformat_minor": 0
}