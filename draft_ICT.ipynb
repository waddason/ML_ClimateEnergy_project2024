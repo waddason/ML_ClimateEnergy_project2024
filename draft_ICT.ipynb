{
  "cells": [
    {
      "cell_type": "markdown",
      "metadata": {
        "id": "fXqNSvlv6cNj"
      },
      "source": [
        "# ML for climate and Energy (MEC51057)\n",
        "# Group project: Weather station\n",
        "\n",
        "**Mentor**:\n",
        "- Julio\n",
        "\n",
        "**Students**:\n",
        "- Dimitri Iratchet\n",
        "- Fabien Lagnieu\n",
        "- Tristan Waddington\n",
        "\n",
        "# Draft for Dimitri\n"
      ]
    },
    {
      "cell_type": "code",
      "execution_count": 4,
      "metadata": {
        "colab": {
          "base_uri": "https://localhost:8080/",
          "height": 329
        },
        "id": "85ruhlGv6cNo",
        "outputId": "7a1458e8-b12c-414a-d86a-3009197af782"
      },
      "outputs": [
        {
          "output_type": "error",
          "ename": "ModuleNotFoundError",
          "evalue": "No module named 'utils'",
          "traceback": [
            "\u001b[0;31m---------------------------------------------------------------------------\u001b[0m",
            "\u001b[0;31mModuleNotFoundError\u001b[0m                       Traceback (most recent call last)",
            "\u001b[0;32m<ipython-input-4-6978825a7e92>\u001b[0m in \u001b[0;36m<cell line: 1>\u001b[0;34m()\u001b[0m\n\u001b[0;32m----> 1\u001b[0;31m \u001b[0;32mfrom\u001b[0m \u001b[0mutils\u001b[0m \u001b[0;32mimport\u001b[0m \u001b[0mload_normalize_data\u001b[0m\u001b[0;34m,\u001b[0m \u001b[0mload_red_data\u001b[0m\u001b[0;34m\u001b[0m\u001b[0;34m\u001b[0m\u001b[0m\n\u001b[0m",
            "\u001b[0;31mModuleNotFoundError\u001b[0m: No module named 'utils'",
            "",
            "\u001b[0;31m---------------------------------------------------------------------------\u001b[0;32m\nNOTE: If your import is failing due to a missing package, you can\nmanually install dependencies using either !pip or !apt.\n\nTo view examples of installing some common dependencies, click the\n\"Open Examples\" button below.\n\u001b[0;31m---------------------------------------------------------------------------\u001b[0m\n"
          ],
          "errorDetails": {
            "actions": [
              {
                "action": "open_url",
                "actionText": "Open Examples",
                "url": "/notebooks/snippets/importing_libraries.ipynb"
              }
            ]
          }
        }
      ],
      "source": [
        "from utils import load_normalize_data, load_red_data"
      ]
    },
    {
      "cell_type": "markdown",
      "metadata": {
        "id": "SMat02fM6cNp"
      },
      "source": [
        "## 1. Data loading"
      ]
    },
    {
      "cell_type": "markdown",
      "metadata": {
        "id": "AKhwfqld6cNp"
      },
      "source": [
        "### 1.1 Normalized data by city\n",
        "<div class=\"alert alert-block alert-warning\">\n",
        "Use the other dataset at first\n",
        "</div>\n"
      ]
    },
    {
      "cell_type": "code",
      "execution_count": 3,
      "metadata": {
        "colab": {
          "base_uri": "https://localhost:8080/",
          "height": 147
        },
        "id": "ipc50cfc6cNq",
        "outputId": "ff05ed3f-8d28-4a12-da7a-6b139a2892ec"
      },
      "outputs": [
        {
          "output_type": "error",
          "ename": "NameError",
          "evalue": "name 'load_normalize_data' is not defined",
          "traceback": [
            "\u001b[0;31m---------------------------------------------------------------------------\u001b[0m",
            "\u001b[0;31mNameError\u001b[0m                                 Traceback (most recent call last)",
            "\u001b[0;32m<ipython-input-3-bd6d38ee7105>\u001b[0m in \u001b[0;36m<cell line: 1>\u001b[0;34m()\u001b[0m\n\u001b[0;32m----> 1\u001b[0;31m \u001b[0mX_train\u001b[0m\u001b[0;34m,\u001b[0m \u001b[0mX_test\u001b[0m\u001b[0;34m,\u001b[0m \u001b[0my_train\u001b[0m\u001b[0;34m,\u001b[0m \u001b[0my_test\u001b[0m \u001b[0;34m=\u001b[0m \u001b[0mload_normalize_data\u001b[0m\u001b[0;34m(\u001b[0m\u001b[0;34m)\u001b[0m\u001b[0;34m\u001b[0m\u001b[0;34m\u001b[0m\u001b[0m\n\u001b[0m",
            "\u001b[0;31mNameError\u001b[0m: name 'load_normalize_data' is not defined"
          ]
        }
      ],
      "source": [
        "X_train, X_test, y_train, y_test = load_normalize_data()"
      ]
    },
    {
      "cell_type": "code",
      "execution_count": null,
      "metadata": {
        "id": "OtMMcJP_6cNq",
        "outputId": "3b2468cf-5049-470c-d347-2d0927d09104"
      },
      "outputs": [
        {
          "name": "stdout",
          "output_type": "stream",
          "text": [
            "Shapes of X_train dataframes:\n",
            "blh: (315569, 4)\n",
            "d2m: (315569, 4)\n",
            "skt: (315569, 4)\n",
            "sp: (315569, 4)\n",
            "ssrd: (315569, 4)\n",
            "t2m: (315569, 4)\n",
            "tcc: (315569, 4)\n",
            "tp: (315569, 4)\n",
            "u10: (315569, 4)\n",
            "v10: (315569, 4)\n",
            "\n",
            "Shapes of X_test dataframes:\n",
            "blh: (35064, 4)\n",
            "d2m: (35064, 4)\n",
            "skt: (35064, 4)\n",
            "sp: (35064, 4)\n",
            "ssrd: (35064, 4)\n",
            "t2m: (35064, 4)\n",
            "tcc: (35064, 4)\n",
            "tp: (35064, 4)\n",
            "u10: (35064, 4)\n",
            "v10: (35064, 4)\n",
            "\n",
            "Shapes of y_train dataframes:\n",
            "blh: (315569, 1)\n",
            "d2m: (315569, 1)\n",
            "skt: (315569, 1)\n",
            "sp: (315569, 1)\n",
            "ssrd: (315569, 1)\n",
            "t2m: (315569, 1)\n",
            "tcc: (315569, 1)\n",
            "tp: (315569, 1)\n",
            "u10: (315569, 1)\n",
            "v10: (315569, 1)\n",
            "\n",
            "Shapes of y_test dataframes:\n",
            "blh: (35064, 1)\n",
            "d2m: (35064, 1)\n",
            "skt: (35064, 1)\n",
            "sp: (35064, 1)\n",
            "ssrd: (35064, 1)\n",
            "t2m: (35064, 1)\n",
            "tcc: (35064, 1)\n",
            "tp: (35064, 1)\n",
            "u10: (35064, 1)\n",
            "v10: (35064, 1)\n",
            "\n",
            "Available names in X_train: dict_keys(['blh', 'd2m', 'skt', 'sp', 'ssrd', 't2m', 'tcc', 'tp', 'u10', 'v10'])\n",
            "Available names in X_test: dict_keys(['blh', 'd2m', 'skt', 'sp', 'ssrd', 't2m', 'tcc', 'tp', 'u10', 'v10'])\n",
            "Available names in y_train: dict_keys(['blh', 'd2m', 'skt', 'sp', 'ssrd', 't2m', 'tcc', 'tp', 'u10', 'v10'])\n",
            "Available names in y_test: dict_keys(['blh', 'd2m', 'skt', 'sp', 'ssrd', 't2m', 'tcc', 'tp', 'u10', 'v10'])\n"
          ]
        }
      ],
      "source": [
        "# Display shapes of the dataframes\n",
        "print(\"Shapes of X_train dataframes:\")\n",
        "for key, value in X_train.items():\n",
        "    print(f\"{key}: {value.shape}\")\n",
        "\n",
        "print(\"\\nShapes of X_test dataframes:\")\n",
        "for key, value in X_test.items():\n",
        "    print(f\"{key}: {value.shape}\")\n",
        "\n",
        "print(\"\\nShapes of y_train dataframes:\")\n",
        "for key, value in y_train.items():\n",
        "    print(f\"{key}: {value.shape}\")\n",
        "\n",
        "print(\"\\nShapes of y_test dataframes:\")\n",
        "for key, value in y_test.items():\n",
        "    print(f\"{key}: {value.shape}\")\n",
        "\n",
        "# Display available names of the dataframes\n",
        "print(\"\\nAvailable names in X_train:\", X_train.keys())\n",
        "print(\"Available names in X_test:\", X_test.keys())\n",
        "print(\"Available names in y_train:\", y_train.keys())\n",
        "print(\"Available names in y_test:\", y_test.keys())"
      ]
    },
    {
      "cell_type": "code",
      "execution_count": null,
      "metadata": {
        "id": "TT_Z40lp6cNr",
        "outputId": "b984cc18-4f11-46ed-f41b-1b927b0c2c4f"
      },
      "outputs": [
        {
          "data": {
            "text/html": [
              "<div>\n",
              "<style scoped>\n",
              "    .dataframe tbody tr th:only-of-type {\n",
              "        vertical-align: middle;\n",
              "    }\n",
              "\n",
              "    .dataframe tbody tr th {\n",
              "        vertical-align: top;\n",
              "    }\n",
              "\n",
              "    .dataframe thead th {\n",
              "        text-align: right;\n",
              "    }\n",
              "</style>\n",
              "<table border=\"1\" class=\"dataframe\">\n",
              "  <thead>\n",
              "    <tr style=\"text-align: right;\">\n",
              "      <th></th>\n",
              "      <th>marseille</th>\n",
              "      <th>brest</th>\n",
              "      <th>london</th>\n",
              "      <th>berlin</th>\n",
              "    </tr>\n",
              "    <tr>\n",
              "      <th>time</th>\n",
              "      <th></th>\n",
              "      <th></th>\n",
              "      <th></th>\n",
              "      <th></th>\n",
              "    </tr>\n",
              "  </thead>\n",
              "  <tbody>\n",
              "    <tr>\n",
              "      <th>1980-01-01 07:00:00</th>\n",
              "      <td>-0.304960</td>\n",
              "      <td>-1.059357</td>\n",
              "      <td>-1.242151</td>\n",
              "      <td>-0.238806</td>\n",
              "    </tr>\n",
              "    <tr>\n",
              "      <th>1980-01-01 08:00:00</th>\n",
              "      <td>-0.316641</td>\n",
              "      <td>-1.101772</td>\n",
              "      <td>-1.220804</td>\n",
              "      <td>-0.269736</td>\n",
              "    </tr>\n",
              "    <tr>\n",
              "      <th>1980-01-01 09:00:00</th>\n",
              "      <td>-0.221562</td>\n",
              "      <td>-1.113358</td>\n",
              "      <td>-1.179237</td>\n",
              "      <td>-0.221394</td>\n",
              "    </tr>\n",
              "    <tr>\n",
              "      <th>1980-01-01 10:00:00</th>\n",
              "      <td>0.065092</td>\n",
              "      <td>-0.956357</td>\n",
              "      <td>-1.079727</td>\n",
              "      <td>-0.246937</td>\n",
              "    </tr>\n",
              "    <tr>\n",
              "      <th>1980-01-01 11:00:00</th>\n",
              "      <td>0.367741</td>\n",
              "      <td>-0.869908</td>\n",
              "      <td>-0.953809</td>\n",
              "      <td>-0.291722</td>\n",
              "    </tr>\n",
              "    <tr>\n",
              "      <th>...</th>\n",
              "      <td>...</td>\n",
              "      <td>...</td>\n",
              "      <td>...</td>\n",
              "      <td>...</td>\n",
              "    </tr>\n",
              "    <tr>\n",
              "      <th>2015-12-31 19:00:00</th>\n",
              "      <td>-0.944583</td>\n",
              "      <td>-0.068515</td>\n",
              "      <td>0.634647</td>\n",
              "      <td>-1.061930</td>\n",
              "    </tr>\n",
              "    <tr>\n",
              "      <th>2015-12-31 20:00:00</th>\n",
              "      <td>-0.969334</td>\n",
              "      <td>-0.770546</td>\n",
              "      <td>0.879556</td>\n",
              "      <td>-1.099512</td>\n",
              "    </tr>\n",
              "    <tr>\n",
              "      <th>2015-12-31 21:00:00</th>\n",
              "      <td>-0.994027</td>\n",
              "      <td>-1.045022</td>\n",
              "      <td>0.538919</td>\n",
              "      <td>-1.114498</td>\n",
              "    </tr>\n",
              "    <tr>\n",
              "      <th>2015-12-31 22:00:00</th>\n",
              "      <td>-1.010974</td>\n",
              "      <td>-1.198140</td>\n",
              "      <td>0.020614</td>\n",
              "      <td>-1.125467</td>\n",
              "    </tr>\n",
              "    <tr>\n",
              "      <th>2015-12-31 23:00:00</th>\n",
              "      <td>-1.040636</td>\n",
              "      <td>-1.505072</td>\n",
              "      <td>-0.353410</td>\n",
              "      <td>-1.138196</td>\n",
              "    </tr>\n",
              "  </tbody>\n",
              "</table>\n",
              "<p>315569 rows × 4 columns</p>\n",
              "</div>"
            ],
            "text/plain": [
              "                     marseille     brest    london    berlin\n",
              "time                                                        \n",
              "1980-01-01 07:00:00  -0.304960 -1.059357 -1.242151 -0.238806\n",
              "1980-01-01 08:00:00  -0.316641 -1.101772 -1.220804 -0.269736\n",
              "1980-01-01 09:00:00  -0.221562 -1.113358 -1.179237 -0.221394\n",
              "1980-01-01 10:00:00   0.065092 -0.956357 -1.079727 -0.246937\n",
              "1980-01-01 11:00:00   0.367741 -0.869908 -0.953809 -0.291722\n",
              "...                        ...       ...       ...       ...\n",
              "2015-12-31 19:00:00  -0.944583 -0.068515  0.634647 -1.061930\n",
              "2015-12-31 20:00:00  -0.969334 -0.770546  0.879556 -1.099512\n",
              "2015-12-31 21:00:00  -0.994027 -1.045022  0.538919 -1.114498\n",
              "2015-12-31 22:00:00  -1.010974 -1.198140  0.020614 -1.125467\n",
              "2015-12-31 23:00:00  -1.040636 -1.505072 -0.353410 -1.138196\n",
              "\n",
              "[315569 rows x 4 columns]"
            ]
          },
          "execution_count": 11,
          "metadata": {},
          "output_type": "execute_result"
        }
      ],
      "source": [
        "X_train[\"blh\"]"
      ]
    },
    {
      "cell_type": "markdown",
      "metadata": {
        "id": "L_HgYQsa6cNs"
      },
      "source": [
        "### 1.2 Resample Daily data (TO USE)\n",
        "<div class=\"alert alert-block alert-info\">\n",
        "<b> Prefer this dataset at first </b>\n",
        "</div>"
      ]
    },
    {
      "cell_type": "code",
      "execution_count": null,
      "metadata": {
        "id": "CQOHMwag6cNt",
        "outputId": "b0a87f46-6262-49da-c618-40cca8b52cdf"
      },
      "outputs": [
        {
          "name": "stdout",
          "output_type": "stream",
          "text": [
            "Shapes: \n",
            "X_train: (3287, 40), X_test: (1096, 40), X_val: (365, 40)\n",
            "y_train: (3287, 10), y_test: (1096, 10), y_val: (365, 10)\n"
          ]
        }
      ],
      "source": [
        "X_train, X_test, X_val, y_train, y_test, y_val = load_red_data()\n",
        "print(\n",
        "    f\"Shapes: \\nX_train: {X_train.shape}, X_test: {X_test.shape}, X_val: {X_val.shape}\\n\"\n",
        "    f\"y_train: {y_train.shape}, y_test: {y_test.shape}, y_val: {y_val.shape}\"\n",
        ")"
      ]
    },
    {
      "cell_type": "markdown",
      "metadata": {
        "id": "b_Abcdsu6cNt"
      },
      "source": [
        "## 2. Model instantiation"
      ]
    },
    {
      "cell_type": "markdown",
      "metadata": {
        "id": "Ewqm8K106cNt"
      },
      "source": []
    }
  ],
  "metadata": {
    "kernelspec": {
      "display_name": "ML_climate",
      "language": "python",
      "name": "python3"
    },
    "language_info": {
      "codemirror_mode": {
        "name": "ipython",
        "version": 3
      },
      "file_extension": ".py",
      "mimetype": "text/x-python",
      "name": "python",
      "nbconvert_exporter": "python",
      "pygments_lexer": "ipython3",
      "version": "3.12.5"
    },
    "colab": {
      "provenance": []
    }
  },
  "nbformat": 4,
  "nbformat_minor": 0
}